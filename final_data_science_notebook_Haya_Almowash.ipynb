{
 "cells": [
  {
   "cell_type": "markdown",
   "id": "120d1991",
   "metadata": {},
   "source": [
    "# Data Science Notebook"
   ]
  },
  {
   "cell_type": "markdown",
   "id": "ef12bbc0",
   "metadata": {},
   "source": [
    "## Introduction\n",
    "In this notebook, we will explore basic concepts of Data Science using Markdown and Python code."
   ]
  },
  {
   "cell_type": "markdown",
   "id": "97f038d8",
   "metadata": {},
   "source": [
    "## Data Science Languages\n",
    "- Python\n",
    "- R\n",
    "- SQL\n",
    "- Julia\n",
    "- Scala"
   ]
  },
  {
   "cell_type": "markdown",
   "id": "225df338",
   "metadata": {},
   "source": [
    "## Data Science Libraries\n",
    "- Pandas\n",
    "- NumPy\n",
    "- Matplotlib\n",
    "- Seaborn\n",
    "- Scikit-learn"
   ]
  },
  {
   "cell_type": "markdown",
   "id": "65acbc6c",
   "metadata": {},
   "source": [
    "## Data Science Tools\n",
    "| Tool             | Description                             |\n",
    "|------------------|-----------------------------------------|\n",
    "| Jupyter Notebook | Write and run code interactively        |\n",
    "| RStudio          | Development environment for R           |\n",
    "| Apache Spark     | Big data processing framework           |"
   ]
  },
  {
   "cell_type": "markdown",
   "id": "0e1d9b70",
   "metadata": {},
   "source": [
    "## Examples of Arithmetic Expressions\n",
    "- 3 + 4 = 7\n",
    "- 5 * 2 = 10\n",
    "- 10 / 2 = 5\n",
    "- 8 - 3 = 5\n",
    "- (2 + 3) * 4 = 20"
   ]
  },
  {
   "cell_type": "code",
   "execution_count": null,
   "id": "1dac704d",
   "metadata": {},
   "outputs": [],
   "source": [
    "# This code multiplies two numbers by 2 and adds the results\n",
    "a = 4\n",
    "b = 5\n",
    "result = (a * 2) + (b * 2)\n",
    "print(\"The result is:\", result)"
   ]
  },
  {
   "cell_type": "code",
   "execution_count": null,
   "id": "2f765e2b",
   "metadata": {},
   "outputs": [],
   "source": [
    "# This code converts minutes into hours\n",
    "minutes = 90\n",
    "hours = minutes / 60\n",
    "print(\"Hours:\", hours)"
   ]
  },
  {
   "cell_type": "markdown",
   "id": "a805a142",
   "metadata": {},
   "source": [
    "## Objectives of this Notebook\n",
    "- Learn basic Markdown formatting in Jupyter Notebooks\n",
    "- Practice arithmetic expressions using Python code\n",
    "- Understand common tools, languages, and libraries used in Data Science"
   ]
  },
  {
   "cell_type": "markdown",
   "id": "e27b4cde",
   "metadata": {},
   "source": [
    "**Author: Haya Almowash**"
   ]
  }
 ],
 "metadata": {},
 "nbformat": 4,
 "nbformat_minor": 5
}
